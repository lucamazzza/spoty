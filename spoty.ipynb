version https://git-lfs.github.com/spec/v1
oid sha256:1985ddd238d231783c25eb535433ffa5d416f54d8b8825df8def8f33fa4d70ea
size 160766058
